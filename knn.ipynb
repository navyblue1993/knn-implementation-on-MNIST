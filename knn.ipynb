{
 "cells": [
  {
   "cell_type": "code",
   "execution_count": 115,
   "id": "6b907b92-c09d-4e4d-a98a-99d04443be0e",
   "metadata": {},
   "outputs": [],
   "source": [
    "import numpy as np\n",
    "import pandas as pd\n",
    "import matplotlib.pyplot as plt\n",
    "from collections import defaultdict"
   ]
  },
  {
   "cell_type": "code",
   "execution_count": 116,
   "id": "fb7aa0ab-3cbc-4f76-9a83-aca581e698c0",
   "metadata": {},
   "outputs": [],
   "source": [
    "# - read the database\n",
    "from keras.datasets import mnist\n",
    "(train_X, train_y), (test_X, test_y) = mnist.load_data()\n",
    "train_X = train_X.reshape(train_X.shape[0],-1)\n",
    "test_X = test_X.reshape(test_X.shape[0],-1)"
   ]
  },
  {
   "cell_type": "code",
   "execution_count": 117,
   "id": "bfb0bb51-fa07-4184-bd37-4838b2e6913f",
   "metadata": {},
   "outputs": [
    {
     "name": "stdout",
     "output_type": "stream",
     "text": [
      "<class 'numpy.ndarray'>\n"
     ]
    }
   ],
   "source": [
    "# - check type\n",
    "print(type(train_X))"
   ]
  },
  {
   "cell_type": "code",
   "execution_count": 118,
   "id": "1a699f9a-62cd-4f35-aea8-4e57abcced1f",
   "metadata": {},
   "outputs": [
    {
     "name": "stdout",
     "output_type": "stream",
     "text": [
      "(60000, 784)\n"
     ]
    }
   ],
   "source": [
    "# - check shape\n",
    "print(train_X.shape)"
   ]
  },
  {
   "cell_type": "code",
   "execution_count": 119,
   "id": "8ad5399f-16c0-4049-8c40-131b3b58fded",
   "metadata": {},
   "outputs": [],
   "source": [
    "def nn(test_x, test_y, train_x, train_y, k):\n",
    "    acc = 0\n",
    "    n = len(test_x)\n",
    "    for i in range(n):\n",
    "        sample = test_x[i]\n",
    "        true_label = test_y[i]\n",
    "        distance = np.sum((train_x-sample)**2,axis=1)\n",
    "        min_index = np.argpartition(distance,k)[:k]\n",
    "        pred_y = np.bincount(train_y[min_index]).argmax()\n",
    "        acc += (pred_y == true_label)\n",
    "        if (i+1)%1000==0:\n",
    "            print(f' test iteration:{i+1}, acc={acc/(i+1)}')\n",
    "    return acc/n"
   ]
  },
  {
   "cell_type": "code",
   "execution_count": 120,
   "id": "8495c245-fc49-4d37-b26a-af720414e427",
   "metadata": {},
   "outputs": [
    {
     "name": "stdout",
     "output_type": "stream",
     "text": [
      " test iteration:1000, acc=0.246\n",
      " test iteration:2000, acc=0.241\n",
      " test iteration:3000, acc=0.24766666666666667\n",
      " test iteration:4000, acc=0.2445\n",
      " test iteration:5000, acc=0.244\n",
      " test iteration:6000, acc=0.249\n",
      " test iteration:7000, acc=0.25157142857142856\n",
      " test iteration:8000, acc=0.24975\n",
      " test iteration:9000, acc=0.25177777777777777\n",
      " test iteration:10000, acc=0.2534\n",
      "0.2534\n"
     ]
    }
   ],
   "source": [
    "acc = nn(test_X, test_y, train_X, train_y, 3)\n",
    "print(acc)"
   ]
  },
  {
   "cell_type": "code",
   "execution_count": null,
   "id": "91865e04-06fb-4905-acc7-6ed5f44f86ec",
   "metadata": {},
   "outputs": [],
   "source": []
  }
 ],
 "metadata": {
  "kernelspec": {
   "display_name": "Python 3 (ipykernel)",
   "language": "python",
   "name": "python3"
  },
  "language_info": {
   "codemirror_mode": {
    "name": "ipython",
    "version": 3
   },
   "file_extension": ".py",
   "mimetype": "text/x-python",
   "name": "python",
   "nbconvert_exporter": "python",
   "pygments_lexer": "ipython3",
   "version": "3.10.6"
  }
 },
 "nbformat": 4,
 "nbformat_minor": 5
}
