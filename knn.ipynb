{
 "cells": [
  {
   "cell_type": "code",
   "execution_count": 173,
   "id": "6b907b92-c09d-4e4d-a98a-99d04443be0e",
   "metadata": {},
   "outputs": [],
   "source": [
    "import numpy as np\n",
    "import pandas as pd"
   ]
  },
  {
   "cell_type": "code",
   "execution_count": 174,
   "id": "fb7aa0ab-3cbc-4f76-9a83-aca581e698c0",
   "metadata": {},
   "outputs": [],
   "source": [
    "# - read the database\n",
    "from keras.datasets import mnist\n",
    "(train_X, train_y), (test_X, test_y) = mnist.load_data()\n",
    "\n",
    "# - reshape matrix into vector\n",
    "train_X = train_X.reshape(train_X.shape[0],-1)\n",
    "test_X = test_X.reshape(test_X.shape[0],-1)"
   ]
  },
  {
   "cell_type": "code",
   "execution_count": 175,
   "id": "bfb0bb51-fa07-4184-bd37-4838b2e6913f",
   "metadata": {},
   "outputs": [
    {
     "name": "stdout",
     "output_type": "stream",
     "text": [
      "<class 'numpy.ndarray'>\n"
     ]
    }
   ],
   "source": [
    "# - check type\n",
    "print(type(train_X))"
   ]
  },
  {
   "cell_type": "code",
   "execution_count": 176,
   "id": "1a699f9a-62cd-4f35-aea8-4e57abcced1f",
   "metadata": {},
   "outputs": [
    {
     "name": "stdout",
     "output_type": "stream",
     "text": [
      "(60000, 784)\n"
     ]
    }
   ],
   "source": [
    "# - check shape\n",
    "print(train_X.shape)"
   ]
  },
  {
   "cell_type": "code",
   "execution_count": 177,
   "id": "8ad5399f-16c0-4049-8c40-131b3b58fded",
   "metadata": {},
   "outputs": [],
   "source": [
    "class KNN:\n",
    "    def __init__(self, k = 3, train_x = None, train_y = None):\n",
    "        self.k = k\n",
    "        self.sample = train_x\n",
    "        self.label = train_y\n",
    "        \n",
    "    def fit(self, x,y):\n",
    "        self.sample = x\n",
    "        self.label = y\n",
    "        return self\n",
    "        \n",
    "    def predict(self, x):\n",
    "        y = []\n",
    "        counter = 0\n",
    "        n = len(x)\n",
    "        for test_data in x:\n",
    "            distance = np.sum((self.sample-test_data)**2,axis=1)\n",
    "            min_index = np.argpartition(distance,self.k)[:self.k]\n",
    "            pred_y = np.bincount(self.label[min_index]).argmax()\n",
    "            y.append(pred_y)\n",
    "            counter += 1\n",
    "            if (counter+1)%1000==0:\n",
    "                print(f' prediction progress:{counter+1}/{n}')\n",
    "        return np.array(y).reshape(-1)\n",
    "    "
   ]
  },
  {
   "cell_type": "code",
   "execution_count": 178,
   "id": "5a9baf04-d506-4ccb-9488-17198a32a229",
   "metadata": {},
   "outputs": [
    {
     "name": "stdout",
     "output_type": "stream",
     "text": [
      " prediction progress:1000/10000\n",
      " prediction progress:2000/10000\n",
      " prediction progress:3000/10000\n",
      " prediction progress:4000/10000\n",
      " prediction progress:5000/10000\n",
      " prediction progress:6000/10000\n",
      " prediction progress:7000/10000\n",
      " prediction progress:8000/10000\n",
      " prediction progress:9000/10000\n",
      " prediction progress:10000/10000\n"
     ]
    }
   ],
   "source": [
    "model = KNN(3).fit(train_X, train_y)\n",
    "predictions = model.predict(test_X)   "
   ]
  },
  {
   "cell_type": "code",
   "execution_count": 183,
   "id": "8495c245-fc49-4d37-b26a-af720414e427",
   "metadata": {},
   "outputs": [
    {
     "name": "stdout",
     "output_type": "stream",
     "text": [
      "test acc = 0.2534\n"
     ]
    }
   ],
   "source": [
    "print(f'test acc = {np.sum(predictions == test_y)/len(test_y)}')"
   ]
  },
  {
   "cell_type": "code",
   "execution_count": null,
   "id": "91865e04-06fb-4905-acc7-6ed5f44f86ec",
   "metadata": {},
   "outputs": [],
   "source": []
  }
 ],
 "metadata": {
  "kernelspec": {
   "display_name": "Python 3 (ipykernel)",
   "language": "python",
   "name": "python3"
  },
  "language_info": {
   "codemirror_mode": {
    "name": "ipython",
    "version": 3
   },
   "file_extension": ".py",
   "mimetype": "text/x-python",
   "name": "python",
   "nbconvert_exporter": "python",
   "pygments_lexer": "ipython3",
   "version": "3.10.6"
  }
 },
 "nbformat": 4,
 "nbformat_minor": 5
}
